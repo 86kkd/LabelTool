{
 "cells": [
  {
   "cell_type": "code",
   "execution_count": 2,
   "metadata": {},
   "outputs": [
    {
     "data": {
      "text/plain": [
       "0"
      ]
     },
     "execution_count": 2,
     "metadata": {},
     "output_type": "execute_result"
    }
   ],
   "source": [
    "\n",
    "from PyQt5.QtWidgets import *\n",
    "from PyQt5.QtCore import *\n",
    "from PyQt5.QtGui import *\n",
    "app = QApplication([])\n",
    "list_widget = QListWidget()\n",
    "\n",
    "# create some items\n",
    "item1 = QListWidgetItem(\"Item 1\")\n",
    "item2 = QListWidgetItem(\"Item 2\")\n",
    "item3 = QListWidgetItem(\"Item 3\")\n",
    "\n",
    "# add the items to the list widget\n",
    "list_widget.addItem(item1)\n",
    "list_widget.addItem(item2)\n",
    "list_widget.addItem(item3)\n",
    "\n",
    "# connect the itemSelectionChanged signal to a function\n",
    "def on_item_selection_changed():\n",
    "    # get the currently selected item\n",
    "    selected_item = list_widget.currentItem()\n",
    "    # set the foreground color of the selected item to red\n",
    "    selected_item.setForeground(QColor(\"red\"))\n",
    "\n",
    "list_widget.itemSelectionChanged.connect(on_item_selection_changed)\n",
    "list_widget.show()\n",
    "app.exec_()\n"
   ]
  }
 ],
 "metadata": {
  "kernelspec": {
   "display_name": "alpha",
   "language": "python",
   "name": "python3"
  },
  "language_info": {
   "codemirror_mode": {
    "name": "ipython",
    "version": 3
   },
   "file_extension": ".py",
   "mimetype": "text/x-python",
   "name": "python",
   "nbconvert_exporter": "python",
   "pygments_lexer": "ipython3",
   "version": "3.7.16"
  },
  "orig_nbformat": 4
 },
 "nbformat": 4,
 "nbformat_minor": 2
}
